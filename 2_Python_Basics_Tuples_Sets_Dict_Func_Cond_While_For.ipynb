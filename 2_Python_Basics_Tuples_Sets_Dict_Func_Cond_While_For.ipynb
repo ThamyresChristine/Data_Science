{
  "nbformat": 4,
  "nbformat_minor": 0,
  "metadata": {
    "colab": {
      "provenance": [],
      "authorship_tag": "ABX9TyPZTsLGASJhTA0EYNLomRPv",
      "include_colab_link": true
    },
    "kernelspec": {
      "name": "python3",
      "display_name": "Python 3"
    },
    "language_info": {
      "name": "python"
    }
  },
  "cells": [
    {
      "cell_type": "markdown",
      "metadata": {
        "id": "view-in-github",
        "colab_type": "text"
      },
      "source": [
        "<a href=\"https://colab.research.google.com/github/ThamyresChristine/BigData_Mackenzie/blob/main/2_Python_Basics_Tuples_Sets_Dict_Func_Cond_While_For.ipynb\" target=\"_parent\"><img src=\"https://colab.research.google.com/assets/colab-badge.svg\" alt=\"Open In Colab\"/></a>"
      ]
    },
    {
      "cell_type": "markdown",
      "source": [
        "#**Tuples**\n",
        "\n",
        "Tuples are used to store multiple items in a single variable.\n",
        "\n",
        "Tuples are written with round brackets.\n",
        "\n",
        "**Ordered**\n",
        "\n",
        "When we say that tuples are ordered, it means that the items have a defined order, and that order will not change.\n",
        "\n",
        "**Unchangeable**\n",
        "\n",
        "Tuples are unchangeable, meaning that we cannot change, add or remove items after the tuple has been created.\n",
        "\n",
        "**Allow Duplicates**\n",
        "\n",
        "Since tuples are indexed, they can have items with the same value:"
      ],
      "metadata": {
        "id": "5gy4Hk8Y59u1"
      }
    },
    {
      "cell_type": "code",
      "execution_count": null,
      "metadata": {
        "colab": {
          "base_uri": "https://localhost:8080/"
        },
        "id": "K7AeEf9d58Um",
        "outputId": "611b3cac-297e-40f0-8c6a-73de0f1e861a"
      },
      "outputs": [
        {
          "output_type": "stream",
          "name": "stdout",
          "text": [
            "3\n",
            "<class 'tuple'>\n",
            "<class 'str'>\n",
            "('apple', 'banana', 'cherry')\n"
          ]
        }
      ],
      "source": [
        "thistuple = tuple((\"apple\", \"banana\", \"cherry\"))\n",
        "print(len(thistuple))\n",
        "\n",
        "thistuple = (\"apple\",)\n",
        "print(type(thistuple))\n",
        "\n",
        "#NOT a tuple\n",
        "thistuple = (\"apple\")\n",
        "print(type(thistuple))\n",
        "\n",
        "#the truple() constructor\n",
        "thistuple = tuple((\"apple\", \"banana\", \"cherry\")) # note the double round-brackets\n",
        "print(thistuple)"
      ]
    },
    {
      "cell_type": "markdown",
      "source": [
        "**Tuple items can be of any data type**"
      ],
      "metadata": {
        "id": "kPUGkT9x7P2y"
      }
    },
    {
      "cell_type": "code",
      "source": [
        "thistuple = (\"apple\", \"banana\", \"cherry\")   #access tuple items\n",
        "print(thistuple[1])\n",
        "\n",
        "print(thistuple[-1])          #negativeindexing\n",
        "\n",
        "print(thistuple[2:5])         #rangeindexing\n",
        "\n",
        "#Note: The search will start at index 2 (included) and end at index 5 (not included).\n",
        "\n",
        "thistuple2 = (\"apple\", \"banana\", \"cherry\", \"orange\", \"kiwi\", \"melon\", \"mango\")\n",
        "print(thistuple2[:4])\n",
        "#This example returns the items from the beginning to, but NOT included, \"kiwi\"\n",
        "\n",
        "print(thistuple2[2:])\n",
        "\n",
        "print(thistuple2[-4:-1])      #rageOfNegativeIndexes\n",
        "\n",
        "if \"apple\" in thistuple2:     #CheckIfItemExists\n",
        "  print(\"Yes, 'apple' is in the fruits tuple\")\n",
        "\n",
        "\n"
      ],
      "metadata": {
        "colab": {
          "base_uri": "https://localhost:8080/"
        },
        "id": "QwpvZsYG7q5N",
        "outputId": "8a3ed226-1408-4eaf-cc38-244df5e2d6e4"
      },
      "execution_count": null,
      "outputs": [
        {
          "output_type": "stream",
          "name": "stdout",
          "text": [
            "banana\n",
            "cherry\n",
            "('cherry',)\n",
            "('apple', 'banana', 'cherry', 'orange')\n",
            "('cherry', 'orange', 'kiwi', 'melon', 'mango')\n",
            "('orange', 'kiwi', 'melon')\n",
            "Yes, 'apple' is in the fruits tuple\n"
          ]
        }
      ]
    },
    {
      "cell_type": "code",
      "source": [
        "thistuple2 = (\"apple\", \"banana\", \"cherry\", \"orange\", \"kiwi\", \"melon\", \"mango\")\n",
        "print(thistuple2[-4:-1])      #rageOfNegativeIndexes, the count starts in zero"
      ],
      "metadata": {
        "colab": {
          "base_uri": "https://localhost:8080/"
        },
        "id": "PMB0LaZ44pSC",
        "outputId": "d0969eb4-9bfa-4eee-9f00-876214218980"
      },
      "execution_count": null,
      "outputs": [
        {
          "output_type": "stream",
          "name": "stdout",
          "text": [
            "('orange', 'kiwi', 'melon')\n"
          ]
        }
      ]
    },
    {
      "cell_type": "code",
      "source": [
        "#ChangeTupleValues - You can convert the tuple into a list, change the list, and convert the list back into a tuple\n",
        "\n",
        "y = list(thistuple)\n",
        "y[1] = \"kiwi\"\n",
        "thistuple = tuple(y)\n",
        "\n",
        "print(thistuple)\n",
        "\n",
        "#AddItems\n",
        "\n",
        "thistuple = (\"apple\", \"banana\", \"cherry\")\n",
        "y = list(thistuple)\n",
        "y.append(\"orange\")\n",
        "thistuple = tuple(y)\n",
        "print(thistuple)\n",
        "\n",
        "#AddTupleToTuple\n",
        "\n",
        "thistuple = (\"apple\", \"banana\", \"cherry\")\n",
        "y = (\"orange\",\"lemon\")\n",
        "thistuple += y\n",
        "\n",
        "print(thistuple)"
      ],
      "metadata": {
        "colab": {
          "base_uri": "https://localhost:8080/"
        },
        "id": "4E2Nh44__HQO",
        "outputId": "1d0fe11e-e7b1-4f18-b368-548665070d9d"
      },
      "execution_count": null,
      "outputs": [
        {
          "output_type": "stream",
          "name": "stdout",
          "text": [
            "('apple', 'kiwi', 'cherry', 'orange', 'lemon')\n",
            "('apple', 'banana', 'cherry', 'orange')\n",
            "('apple', 'banana', 'cherry', 'orange', 'lemon')\n"
          ]
        }
      ]
    },
    {
      "cell_type": "code",
      "source": [
        "#RemoveItems - you can use the same workaround as we used for changing and adding tuple items\n",
        "thistuple = (\"apple\", \"banana\", \"cherry\")\n",
        "y = list(thistuple)\n",
        "y.remove(\"apple\")\n",
        "thistuple = tuple(y)\n",
        "\n",
        "thistuple = (\"apple\", \"banana\", \"cherry\")\n",
        "del thistuple\n",
        "print(thistuple) #this will raise an error because the tuple no longer exists\n"
      ],
      "metadata": {
        "colab": {
          "base_uri": "https://localhost:8080/",
          "height": 200
        },
        "id": "F_exDjed_Z5j",
        "outputId": "fd8885af-3855-4fbc-e2a1-f349eb62c4b8"
      },
      "execution_count": null,
      "outputs": [
        {
          "output_type": "error",
          "ename": "NameError",
          "evalue": "ignored",
          "traceback": [
            "\u001b[0;31m---------------------------------------------------------------------------\u001b[0m",
            "\u001b[0;31mNameError\u001b[0m                                 Traceback (most recent call last)",
            "\u001b[0;32m<ipython-input-5-0ae526800fa1>\u001b[0m in \u001b[0;36m<module>\u001b[0;34m\u001b[0m\n\u001b[1;32m      7\u001b[0m \u001b[0mthistuple\u001b[0m \u001b[0;34m=\u001b[0m \u001b[0;34m(\u001b[0m\u001b[0;34m\"apple\"\u001b[0m\u001b[0;34m,\u001b[0m \u001b[0;34m\"banana\"\u001b[0m\u001b[0;34m,\u001b[0m \u001b[0;34m\"cherry\"\u001b[0m\u001b[0;34m)\u001b[0m\u001b[0;34m\u001b[0m\u001b[0;34m\u001b[0m\u001b[0m\n\u001b[1;32m      8\u001b[0m \u001b[0;32mdel\u001b[0m \u001b[0mthistuple\u001b[0m\u001b[0;34m\u001b[0m\u001b[0;34m\u001b[0m\u001b[0m\n\u001b[0;32m----> 9\u001b[0;31m \u001b[0mprint\u001b[0m\u001b[0;34m(\u001b[0m\u001b[0mthistuple\u001b[0m\u001b[0;34m)\u001b[0m \u001b[0;31m#this will raise an error because the tuple no longer exists\u001b[0m\u001b[0;34m\u001b[0m\u001b[0;34m\u001b[0m\u001b[0m\n\u001b[0m",
            "\u001b[0;31mNameError\u001b[0m: name 'thistuple' is not defined"
          ]
        }
      ]
    },
    {
      "cell_type": "code",
      "source": [
        "#When we create a tuple, we normally assign values to it. This is called \"packing\" a tuple:\n",
        "\n",
        "frutas = ('maçã', 'laranja', 'limão')\n",
        "print(frutas)\n",
        "\n",
        "#unpacking\n",
        "\n",
        "(green, yellow, red) = frutas\n",
        "\n",
        "print(green)\n",
        "print(yellow)\n",
        "print(red)\n",
        "\n",
        "print(frutas)\n",
        "\n",
        "#Note: The number of variables must match the number of values in the tuple, if not, you must use an asterisk to collect the remaining values as a list.\n",
        "\n",
        "fruits_2 = (\"apple\", \"banana\", \"cherry\", \"strawberry\", \"raspberry\")\n",
        "\n",
        "(green, yellow, *red) = fruits_2\n",
        "\n",
        "print(green)\n",
        "print(yellow)\n",
        "print(red)\n",
        "\n",
        "print(fruits_2)"
      ],
      "metadata": {
        "colab": {
          "base_uri": "https://localhost:8080/"
        },
        "id": "SU-CYOjN_6SA",
        "outputId": "de93c566-005c-446f-9820-3c2dc67f4660"
      },
      "execution_count": null,
      "outputs": [
        {
          "output_type": "stream",
          "name": "stdout",
          "text": [
            "('maçã', 'laranja', 'limão')\n",
            "maçã\n",
            "laranja\n",
            "limão\n",
            "('maçã', 'laranja', 'limão')\n",
            "apple\n",
            "banana\n",
            "['cherry', 'strawberry', 'raspberry']\n",
            "('apple', 'banana', 'cherry', 'strawberry', 'raspberry')\n"
          ]
        }
      ]
    },
    {
      "cell_type": "code",
      "source": [
        "#If the asterisk is added to another variable name than the last,\n",
        "#Python will assign values to the variable until the number of values left matches the number of variables left.\n",
        "\n",
        "\n",
        "fruits = (\"apple\", \"mango\", \"papaya\", \"pineapple\", \"cherry\")\n",
        "\n",
        "(green, *tropic, red) = fruits\n",
        "\n",
        "print(green)\n",
        "print(tropic)\n",
        "print(red)"
      ],
      "metadata": {
        "colab": {
          "base_uri": "https://localhost:8080/"
        },
        "id": "fd8NRcuPAJQh",
        "outputId": "64f88828-dd8f-47eb-9260-d6cd41c57fcc"
      },
      "execution_count": null,
      "outputs": [
        {
          "output_type": "stream",
          "name": "stdout",
          "text": [
            "apple\n",
            "['mango', 'papaya', 'pineapple']\n",
            "cherry\n"
          ]
        }
      ]
    },
    {
      "cell_type": "code",
      "source": [
        "#loop\n",
        "\n",
        "thistuple = (\"apple\", \"banana\", \"cherry\")\n",
        "for x in thistuple:\n",
        "  print(x)\n",
        "\n",
        "#loop through the IndexNumbers\n",
        "\n",
        "for i in range(len(thistuple)):\n",
        "  print(thistuple[i])\n",
        "\n",
        "\n",
        "#while\n",
        "\n",
        "i = 0\n",
        "while i < len(thistuple):\n",
        "  print(thistuple[i])\n",
        "  i = i + 1"
      ],
      "metadata": {
        "colab": {
          "base_uri": "https://localhost:8080/"
        },
        "id": "x_p8XEGbCHpU",
        "outputId": "3237c96e-89d6-4672-a080-b358c221f32f"
      },
      "execution_count": null,
      "outputs": [
        {
          "output_type": "stream",
          "name": "stdout",
          "text": [
            "apple\n",
            "banana\n",
            "cherry\n",
            "apple\n",
            "banana\n",
            "cherry\n",
            "apple\n",
            "banana\n",
            "cherry\n"
          ]
        }
      ]
    },
    {
      "cell_type": "code",
      "source": [
        "#join\n",
        "tuple1 = (\"a\", \"b\" , \"c\")\n",
        "tuple2 = (1, 2, 3)\n",
        "\n",
        "tuple3 = tuple1 + tuple2\n",
        "print(tuple3)\n",
        "\n",
        "#MultiplyTuples\n",
        "\n",
        "fruits = (\"apple\", \"banana\", \"cherry\")\n",
        "mytuple = fruits * 2\n",
        "\n",
        "print(mytuple)\n",
        "\n",
        "#count() Returns the number of times a specified value occurs in a tuple\n",
        "#index()Searches the tuple for a specified value and returns the position of where it was found\n",
        "\n",
        "tuple3 = (1, 3, 7, 14, 85, 5, 98, 2, 0, 5, 9, 11, 5, 97, 101)\n",
        "x = tuple3.count(5)\n",
        "y = fruits.count(\"banana\")\n",
        "\n",
        "print(x)\n",
        "print(y)"
      ],
      "metadata": {
        "colab": {
          "base_uri": "https://localhost:8080/"
        },
        "id": "wl9JOvMCCbpT",
        "outputId": "c14343ec-8d10-4830-9f96-5fe970ef8c5e"
      },
      "execution_count": null,
      "outputs": [
        {
          "output_type": "stream",
          "name": "stdout",
          "text": [
            "('a', 'b', 'c', 1, 2, 3)\n",
            "('apple', 'banana', 'cherry', 'apple', 'banana', 'cherry')\n",
            "3\n",
            "1\n"
          ]
        }
      ]
    },
    {
      "cell_type": "markdown",
      "source": [
        "#**Sets**\n",
        "\n",
        "Sets are used to store multiple items in a single variable.\n",
        "\n",
        "Sets are written with curly brackets.\n",
        "\n",
        "A set is a collection which is unordered, unchangeable*, and unindexed.\n",
        "\n",
        "**Unordered** means that the items in a set do not have a defined order.\n",
        "\n",
        "Set items can appear in a different order every time you use them, and cannot be referred to by index or key.\n",
        "\n",
        "Set items are **unchangeable**, meaning that we cannot change the items after the set has been created.\n",
        "\n",
        "Once a set is created, you cannot change its items, but you can remove items and add new items.\n",
        "\n",
        "**Duplicates Not Allowed**\n",
        "\n",
        "Sets **cannot** have two items with the same value.\n",
        "\n"
      ],
      "metadata": {
        "id": "RviFnHZtD8Mq"
      }
    },
    {
      "cell_type": "code",
      "source": [
        "thisset = {'maçã', 'banana','abacaxi', 'pêra','melancia', 'limão', 'laranja', 'banana', 'maçã'}\n",
        "print(thisset)\n",
        "\n",
        "print(len(thisset))\n",
        "print(type(thisset))\n",
        "\n",
        "#Set items can be of any data type)\n",
        "#A set can contain different data types\n",
        "\n",
        "set1 = set((\"apple\", 4, \"cherry\")) # note the double round-brackets / The set() Constructor\n",
        "print(set1)\n",
        "print(type(set1))\n",
        "\n",
        "set2 = {\"abc\", 34, True, 40, \"male\"}\n",
        "print(set2)\n",
        "print(type(set2))\n"
      ],
      "metadata": {
        "colab": {
          "base_uri": "https://localhost:8080/"
        },
        "id": "2gpEAcSEE-0H",
        "outputId": "9789159c-e6cb-4920-ee69-44b1dca7395a"
      },
      "execution_count": null,
      "outputs": [
        {
          "output_type": "stream",
          "name": "stdout",
          "text": [
            "{'banana', 'laranja', 'melancia', 'maçã', 'abacaxi', 'pêra', 'limão'}\n",
            "7\n",
            "<class 'set'>\n",
            "{'apple', 4, 'cherry'}\n",
            "<class 'set'>\n",
            "{True, 34, 'abc', 40, 'male'}\n",
            "<class 'set'>\n"
          ]
        }
      ]
    },
    {
      "cell_type": "markdown",
      "source": [
        "**More Sets Methods [here](https://www.w3schools.com/python/python_sets_methods.asp)**"
      ],
      "metadata": {
        "id": "cq5lA8ftyP9A"
      }
    },
    {
      "cell_type": "markdown",
      "source": [
        "**Access Set Items**"
      ],
      "metadata": {
        "id": "f93wK0f6-Qfw"
      }
    },
    {
      "cell_type": "code",
      "source": [
        "myset = {'red', 'yellow', 'green'}\n",
        "print(myset)\n",
        "\n",
        "if 'red' in myset:\n",
        "  print('Red in myset')"
      ],
      "metadata": {
        "colab": {
          "base_uri": "https://localhost:8080/"
        },
        "id": "RZ8CK8Gh-WPV",
        "outputId": "06b4f3ee-d95b-49db-8a74-fc725a092958"
      },
      "execution_count": null,
      "outputs": [
        {
          "output_type": "stream",
          "name": "stdout",
          "text": [
            "{'red', 'green', 'yellow'}\n",
            "Red in myset\n"
          ]
        }
      ]
    },
    {
      "cell_type": "markdown",
      "source": [
        "**Loops**"
      ],
      "metadata": {
        "id": "3n753rD7yYC0"
      }
    },
    {
      "cell_type": "code",
      "source": [
        "thisset = {\"apple\", \"banana\", \"cherry\"}\n",
        "\n",
        "for x in thisset:\n",
        "  print(x)"
      ],
      "metadata": {
        "colab": {
          "base_uri": "https://localhost:8080/"
        },
        "id": "fwGVRYIdj8Wm",
        "outputId": "68b50e99-96f8-4b65-8886-0119ae283c99"
      },
      "execution_count": null,
      "outputs": [
        {
          "output_type": "stream",
          "name": "stdout",
          "text": [
            "banana\n",
            "apple\n",
            "cherry\n"
          ]
        }
      ]
    },
    {
      "cell_type": "markdown",
      "source": [
        "**Change Set Items**"
      ],
      "metadata": {
        "id": "b-nTIyOv-xLA"
      }
    },
    {
      "cell_type": "code",
      "source": [
        "#Add set items\n",
        "myset.add(\"blue\")\n",
        "print(myset)\n",
        "\n",
        "#add set with set\n",
        "set2 = {'pink', 'orange', 'purple'}\n",
        "myset.update(set2)\n",
        "print(myset)\n",
        "\n",
        "#add list too\n",
        "list1 = ['white', 'black']\n",
        "myset.update(list1)\n",
        "print(myset)"
      ],
      "metadata": {
        "colab": {
          "base_uri": "https://localhost:8080/"
        },
        "id": "6YNlfA_s-2Ez",
        "outputId": "b7ceab0a-6510-4535-85ef-643081a997c7"
      },
      "execution_count": null,
      "outputs": [
        {
          "output_type": "stream",
          "name": "stdout",
          "text": [
            "{'yellow', 'pink', 'purple', 'orange', 'blue', 'green'}\n",
            "{'yellow', 'pink', 'purple', 'orange', 'blue', 'green'}\n",
            "{'yellow', 'pink', 'white', 'purple', 'black', 'orange', 'blue', 'green'}\n"
          ]
        }
      ]
    },
    {
      "cell_type": "code",
      "source": [
        "#Remove set items\n",
        "myset.remove('black') #remove()\n",
        "print(myset)\n",
        "\n",
        "myset.discard('white') ##discard()\n",
        "print(myset)\n",
        "\n",
        "x = myset.pop()       #remove randomly\n",
        "print(x)\n",
        "\n",
        "y = myset.clear()       #empties the set\n",
        "print(y)"
      ],
      "metadata": {
        "colab": {
          "base_uri": "https://localhost:8080/"
        },
        "id": "pArnj3f3_6yN",
        "outputId": "486b877f-4254-4a61-8a26-d96710c9e6b7"
      },
      "execution_count": null,
      "outputs": [
        {
          "output_type": "stream",
          "name": "stdout",
          "text": [
            "{'yellow', 'pink', 'white', 'purple', 'orange', 'blue', 'green'}\n",
            "{'yellow', 'pink', 'purple', 'orange', 'blue', 'green'}\n",
            "yellow\n",
            "None\n"
          ]
        }
      ]
    },
    {
      "cell_type": "code",
      "source": [
        "thisset = {\"apple\", \"banana\", \"cherry\"}\n",
        "\n",
        "del thisset\n",
        "\n",
        "print(thisset) #this will raise an error because the set no longer exists"
      ],
      "metadata": {
        "id": "Wy5ugUXEBTUz"
      },
      "execution_count": null,
      "outputs": []
    },
    {
      "cell_type": "markdown",
      "source": [
        "**Join Two Sets**"
      ],
      "metadata": {
        "id": "R1TtlbI8Bit9"
      }
    },
    {
      "cell_type": "code",
      "source": [
        "#union()\n",
        "primarycolors = {'red', 'yellow', 'blue'}\n",
        "\n",
        "secondcolors = {'orange', 'purple', 'green'}\n",
        "\n",
        "colors = primarycolors.union(secondcolors)\n",
        "print(colors)\n",
        "\n",
        "#update()\n",
        "primarycolors.update(secondcolors)\n",
        "print(primarycolors)"
      ],
      "metadata": {
        "colab": {
          "base_uri": "https://localhost:8080/"
        },
        "id": "5QjCeFbF-wc3",
        "outputId": "babd247f-4b4c-4b90-ff00-3ddb605ec7ee"
      },
      "execution_count": null,
      "outputs": [
        {
          "output_type": "stream",
          "name": "stdout",
          "text": [
            "{'purple', 'red', 'yellow', 'blue', 'orange', 'green'}\n",
            "{'purple', 'red', 'yellow', 'blue', 'orange', 'green'}\n"
          ]
        }
      ]
    },
    {
      "cell_type": "code",
      "source": [
        "#keep only duplicates\n",
        "x = {'purple', 'red', 'yellow', 'blue', 'orange', 'green'}\n",
        "y = {'purple', 'pink', 'blue'}\n",
        "\n",
        "x.intersection_update(y)        #intersection_update()\n",
        "print(x)\n",
        "\n",
        "\n",
        "x = {\"apple\", \"banana\", \"cherry\"}\n",
        "y = {\"google\", \"microsoft\", \"apple\"}\n",
        "\n",
        "z = x.intersection(y)         #intersection()\n",
        "print(z)"
      ],
      "metadata": {
        "colab": {
          "base_uri": "https://localhost:8080/"
        },
        "id": "Fi1pbkITCb8Y",
        "outputId": "12924ce6-89e5-49ea-d5a2-13cf3201f3bf"
      },
      "execution_count": null,
      "outputs": [
        {
          "output_type": "stream",
          "name": "stdout",
          "text": [
            "{'purple', 'blue'}\n",
            "{'apple'}\n"
          ]
        }
      ]
    },
    {
      "cell_type": "code",
      "source": [
        "x = {\"apple\", \"banana\", \"cherry\"}\n",
        "y = {\"google\", \"microsoft\", \"apple\"}\n",
        "\n",
        "x.symmetric_difference_update(y)        #symmetric_difference_update(), seguir essa sintaxe\n",
        "\n",
        "print(x)\n",
        "\n",
        "x.symmetric_difference(y)           #symmetric_difference()\n",
        "print(x)\n"
      ],
      "metadata": {
        "colab": {
          "base_uri": "https://localhost:8080/"
        },
        "id": "zaiya0U3Dvs0",
        "outputId": "af660d3e-7d59-4fb2-839f-f9a8572db98b"
      },
      "execution_count": null,
      "outputs": [
        {
          "output_type": "stream",
          "name": "stdout",
          "text": [
            "{'cherry', 'banana', 'microsoft', 'google'}\n",
            "{'cherry', 'banana', 'microsoft', 'google'}\n"
          ]
        }
      ]
    },
    {
      "cell_type": "markdown",
      "source": [
        "**Sets Methods [here](https://www.w3schools.com/python/python_sets_methods.asp)**"
      ],
      "metadata": {
        "id": "EOC7hYi_EnIj"
      }
    },
    {
      "cell_type": "markdown",
      "source": [
        "#**Dictionaries**\n",
        "\n",
        "Dictionaries are used to **store data values in key:value pairs**\n",
        "\n",
        "A dictionary is a collection which is ordered*, changeable and do not allow duplicates.\n",
        "\n",
        "As of Python version 3.7, dictionaries are ordered. In Python 3.6 and earlier, dictionaries are unordered.\n",
        "\n",
        "* Dictionaries are written with curly brackets, and have keys and values\n",
        "\n",
        "* Dictionary items are ordered, changeable, and does not allow duplicates.\n",
        "\n",
        "* Dictionary items are presented in key:value pairs, and can be referred to by using the key name."
      ],
      "metadata": {
        "id": "aGY6H3Rbzlnq"
      }
    },
    {
      "cell_type": "code",
      "source": [
        "thisdict = {\n",
        "  \"brand\": \"Ford\",\n",
        "  \"model\": \"Mustang\",\n",
        "  \"year\": 1964\n",
        "}\n",
        "print(thisdict)\n",
        "print(thisdict['brand'])\n",
        "\n",
        "for x,y in thisdict.items():\n",
        "  print(x)"
      ],
      "metadata": {
        "colab": {
          "base_uri": "https://localhost:8080/"
        },
        "id": "NmvjXr-f2JrY",
        "outputId": "a46839fe-282f-488c-cb93-2faecc62a919"
      },
      "execution_count": null,
      "outputs": [
        {
          "output_type": "stream",
          "name": "stdout",
          "text": [
            "{'brand': 'Ford', 'model': 'Mustang', 'year': 1964}\n",
            "Ford\n",
            "brand\n",
            "model\n",
            "year\n"
          ]
        }
      ]
    },
    {
      "cell_type": "code",
      "source": [
        "dictProva = {'Isaias':1959,'Rosangela':1965,'Thamyres':1992}\n",
        "print(dictProva)\n",
        "\n",
        "for x in dictProva:\n",
        "  print(dictProva[x])\n",
        "\n",
        "dictProva['Clara']=1999\n",
        "print(dictProva)"
      ],
      "metadata": {
        "colab": {
          "base_uri": "https://localhost:8080/"
        },
        "id": "UilCW077DBPt",
        "outputId": "fab499c0-811d-4117-c2f4-dbe47129c92f"
      },
      "execution_count": null,
      "outputs": [
        {
          "output_type": "stream",
          "name": "stdout",
          "text": [
            "{'Isaias': 1959, 'Rosangela': 1965, 'Thamyres': 1992}\n",
            "1959\n",
            "1965\n",
            "1992\n",
            "{'Isaias': 1959, 'Rosangela': 1965, 'Thamyres': 1992, 'Clara': 1999}\n"
          ]
        }
      ]
    },
    {
      "cell_type": "code",
      "source": [
        "dict2={}\n",
        "print(len(dict2))\n",
        "dict2['Clara']=1999\n",
        "print(dict2)\n",
        "print(len(dict2))"
      ],
      "metadata": {
        "colab": {
          "base_uri": "https://localhost:8080/"
        },
        "id": "PFY10Gx1JbaI",
        "outputId": "1f67644d-f9fd-4c20-fe08-b1fa990b1d07"
      },
      "execution_count": null,
      "outputs": [
        {
          "output_type": "stream",
          "name": "stdout",
          "text": [
            "0\n",
            "{'Clara': 1999}\n",
            "1\n"
          ]
        }
      ]
    },
    {
      "cell_type": "markdown",
      "source": [
        "**Ordered or Unordered?**\n",
        "\n",
        "As of Python version 3.7, dictionaries are ordered. In Python 3.6 and earlier, dictionaries are unordered.\n",
        "\n",
        "When we say that dictionaries are ordered, it means that the items have a defined order, and that order will not change.\n",
        "\n",
        "Unordered means that the items does not have a defined order, you cannot refer to an item by using an index."
      ],
      "metadata": {
        "id": "xwKc4oFi2yer"
      }
    },
    {
      "cell_type": "code",
      "source": [
        "#LOOP\n",
        "\n",
        "for x in thisdict:    #print all key names one by one\n",
        "  print(x)\n",
        "\n",
        "\n",
        "for x in thisdict:    #print all values one by one\n",
        "  print(\"\\n\", thisdict[x])\n",
        "\n",
        "for x in thisdict.values(): #value() method\n",
        "  print(\"\\n\", x)"
      ],
      "metadata": {
        "colab": {
          "base_uri": "https://localhost:8080/"
        },
        "id": "LQniB9Ro3Jgn",
        "outputId": "1d046aee-1a2c-4109-810c-0d44d9ffed36"
      },
      "execution_count": null,
      "outputs": [
        {
          "output_type": "stream",
          "name": "stdout",
          "text": [
            "brand\n",
            "model\n",
            "year\n",
            "\n",
            " Ford\n",
            "\n",
            " Mustang\n",
            "\n",
            " 1964\n",
            "\n",
            " Ford\n",
            "\n",
            " Mustang\n",
            "\n",
            " 1964\n"
          ]
        }
      ]
    },
    {
      "cell_type": "code",
      "source": [
        "for x in thisdict.keys():   #keys() method\n",
        "  print(\"\\n\", x)\n",
        "\n",
        "for x, y in thisdict.items():   #Loop through both keys and values, by using the items() method\n",
        "  print(\"\\n\", x, y)"
      ],
      "metadata": {
        "colab": {
          "base_uri": "https://localhost:8080/"
        },
        "id": "f3BhCN44U9oC",
        "outputId": "707b9d89-bc7d-4c7f-8f41-6f9ec8b5d97b"
      },
      "execution_count": null,
      "outputs": [
        {
          "output_type": "stream",
          "name": "stdout",
          "text": [
            "\n",
            " brand\n",
            "\n",
            " model\n",
            "\n",
            " year\n",
            "\n",
            " brand Ford\n",
            "\n",
            " model Mustang\n",
            "\n",
            " year 1964\n"
          ]
        }
      ]
    },
    {
      "cell_type": "markdown",
      "source": [
        "**Nested Dictionaries**\n",
        "\n",
        "A dictionary can contain dictionaries, this is called nested dictionaries."
      ],
      "metadata": {
        "id": "oMVXOAYQ4IVq"
      }
    },
    {
      "cell_type": "code",
      "source": [
        "myfamily = {\n",
        "  \"child1\" : {\n",
        "    \"name\" : \"Emil\",\n",
        "    \"year\" : 2004\n",
        "  },\n",
        "  \"child2\" : {\n",
        "    \"name\" : \"Tobias\",\n",
        "    \"year\" : 2007\n",
        "  },\n",
        "  \"child3\" : {\n",
        "    \"name\" : \"Linus\",\n",
        "    \"year\" : 2011\n",
        "  }\n",
        "}\n",
        "\n",
        "print(myfamily)"
      ],
      "metadata": {
        "colab": {
          "base_uri": "https://localhost:8080/"
        },
        "id": "awcOzqxK4NE7",
        "outputId": "5ac2e245-e4c5-4679-cc13-9eace2c79c75"
      },
      "execution_count": null,
      "outputs": [
        {
          "output_type": "stream",
          "name": "stdout",
          "text": [
            "{'child1': {'name': 'Emil', 'year': 2004}, 'child2': {'name': 'Tobias', 'year': 2007}, 'child3': {'name': 'Linus', 'year': 2011}}\n"
          ]
        }
      ]
    },
    {
      "cell_type": "code",
      "source": [
        "#OU crie os vários dicionários que vc quer/precisa e crie um que terá todos os outros\n",
        "child1 = {\n",
        "  \"name\" : \"Emil\",\n",
        "  \"year\" : 2004\n",
        "}\n",
        "child2 = {\n",
        "  \"name\" : \"Tobias\",\n",
        "  \"year\" : 2007\n",
        "}\n",
        "child3 = {\n",
        "  \"name\" : \"Linus\",\n",
        "  \"year\" : 2011\n",
        "}\n",
        "\n",
        "myfamily = {\n",
        "  \"child1\" : child1,\n",
        "  \"child2\" : child2,\n",
        "  \"child3\" : child3\n",
        "}\n",
        "print(myfamily)"
      ],
      "metadata": {
        "colab": {
          "base_uri": "https://localhost:8080/"
        },
        "id": "UKVsUoRu4huj",
        "outputId": "a81b2a9a-0b16-4486-cd52-b6d996da4f49"
      },
      "execution_count": null,
      "outputs": [
        {
          "output_type": "stream",
          "name": "stdout",
          "text": [
            "{'child1': {'name': 'Emil', 'year': 2004}, 'child2': {'name': 'Tobias', 'year': 2007}, 'child3': {'name': 'Linus', 'year': 2011}}\n"
          ]
        }
      ]
    },
    {
      "cell_type": "markdown",
      "source": [
        "**Dictionary methods [here](https://www.w3schools.com/python/python_functions.asp)**"
      ],
      "metadata": {
        "id": "jObuH5yI4ztu"
      }
    },
    {
      "cell_type": "code",
      "source": [
        "#any data\n",
        "thisdict = {\n",
        "  \"brand\": \"Ford\",\n",
        "  \"electric\": False,\n",
        "  \"year\": 1964,\n",
        "  \"colors\": [\"red\", \"white\", \"blue\"]\n",
        "}\n",
        "print(thisdict)"
      ],
      "metadata": {
        "colab": {
          "base_uri": "https://localhost:8080/"
        },
        "id": "cCCRTNdbV-DS",
        "outputId": "29793a19-3f35-474e-b3cd-07c2aa4b139e"
      },
      "execution_count": null,
      "outputs": [
        {
          "output_type": "stream",
          "name": "stdout",
          "text": [
            "{'brand': 'Ford', 'electric': False, 'year': 1964, 'colors': ['red', 'white', 'blue']}\n"
          ]
        }
      ]
    },
    {
      "cell_type": "code",
      "source": [
        "dict1 = {\n",
        "  'sunday': 1,\n",
        "  'monday': 2,\n",
        "  'tuersday': 3\n",
        "}\n",
        "print(dict1)"
      ],
      "metadata": {
        "colab": {
          "base_uri": "https://localhost:8080/"
        },
        "id": "eEUta8uBWKVT",
        "outputId": "9d4cf2e3-2399-4071-c4ac-153d530746be"
      },
      "execution_count": null,
      "outputs": [
        {
          "output_type": "stream",
          "name": "stdout",
          "text": [
            "{'sunday': 1, 'monday': 2, 'tuersday': 3}\n"
          ]
        }
      ]
    },
    {
      "cell_type": "code",
      "source": [
        "dict2 = {\n",
        "    'Gabi': \"25/1\",\n",
        "    'Vi': \"9/4\",\n",
        "    'Ray': \"18/3\",\n",
        "    'Ju': \"23/12\",\n",
        "    'Maria': \"31/7\"\n",
        "}\n",
        "\n",
        "print(dict2)\n",
        "print(type(dict2))"
      ],
      "metadata": {
        "colab": {
          "base_uri": "https://localhost:8080/"
        },
        "id": "6BT-kHjEWu7h",
        "outputId": "fa216a39-8f34-454b-9dcf-fce47c4130cc"
      },
      "execution_count": null,
      "outputs": [
        {
          "output_type": "stream",
          "name": "stdout",
          "text": [
            "{'Gabi': '25/1', 'Vi': '9/4', 'Ray': '18/3', 'Ju': '23/12', 'Maria': '31/7'}\n",
            "<class 'dict'>\n"
          ]
        }
      ]
    },
    {
      "cell_type": "code",
      "source": [
        "#Duplicates Not Allowed\n",
        "thisdict = {\n",
        "  \"brand\": \"Ford\",\n",
        "  \"model\": \"Mustang\",\n",
        "  \"year\": 1964,\n",
        "  \"year\": 2020          #mantém o último valor\n",
        "}\n",
        "print(thisdict)"
      ],
      "metadata": {
        "colab": {
          "base_uri": "https://localhost:8080/"
        },
        "id": "_ESv1SpEXOpB",
        "outputId": "39282fed-533f-4b48-8bb8-dd1f812e6b4d"
      },
      "execution_count": null,
      "outputs": [
        {
          "output_type": "stream",
          "name": "stdout",
          "text": [
            "{'brand': 'Ford', 'model': 'Mustang', 'year': 2020}\n"
          ]
        }
      ]
    },
    {
      "cell_type": "code",
      "source": [
        "#Constructor\n",
        "dict3 = dict(name = 'John', age = 36, country = 'USA')\n",
        "print(dict3)"
      ],
      "metadata": {
        "colab": {
          "base_uri": "https://localhost:8080/"
        },
        "id": "clbaCD7LXgsu",
        "outputId": "d02bd8a7-98fb-4895-8112-9fac898caeb5"
      },
      "execution_count": null,
      "outputs": [
        {
          "output_type": "stream",
          "name": "stdout",
          "text": [
            "{'name': 'John', 'age': 36, 'country': 'USA'}\n"
          ]
        }
      ]
    },
    {
      "cell_type": "code",
      "source": [
        "#Access Items\n",
        "print(dict3[\"name\"])\n",
        "\n",
        "print(dict3.get('age'))\n",
        "\n",
        "print(dict2.keys())\n",
        "\n",
        "dict2['Marco']='18/10'\n",
        "print(dict2.keys())"
      ],
      "metadata": {
        "colab": {
          "base_uri": "https://localhost:8080/"
        },
        "id": "0_BsDqNQX7KD",
        "outputId": "64459580-2712-4e19-ea1c-924036d59362"
      },
      "execution_count": null,
      "outputs": [
        {
          "output_type": "stream",
          "name": "stdout",
          "text": [
            "John\n",
            "36\n",
            "dict_keys(['Gabi', 'Vi', 'Ray', 'Ju', 'Maria', 'Marco'])\n",
            "dict_keys(['Gabi', 'Vi', 'Ray', 'Ju', 'Maria', 'Marco'])\n"
          ]
        }
      ]
    },
    {
      "cell_type": "code",
      "source": [
        "print(dict2.values())\n",
        "dict2['Marco']='17/10'\n",
        "print(dict2.values())\n",
        "\n",
        "print(dict2.items())      #will return each item in a dictionary, as tuples in a list"
      ],
      "metadata": {
        "colab": {
          "base_uri": "https://localhost:8080/"
        },
        "id": "hFDHZ06UYdis",
        "outputId": "2c6b3814-fdae-448a-9ff8-0b56f4349053"
      },
      "execution_count": null,
      "outputs": [
        {
          "output_type": "stream",
          "name": "stdout",
          "text": [
            "dict_values(['25/1', '9/4', '18/3', '23/12', '31/7', '17/10'])\n",
            "dict_values(['25/1', '9/4', '18/3', '23/12', '31/7', '17/10'])\n",
            "dict_items([('Gabi', '25/1'), ('Vi', '9/4'), ('Ray', '18/3'), ('Ju', '23/12'), ('Maria', '31/7'), ('Marco', '17/10')])\n"
          ]
        }
      ]
    },
    {
      "cell_type": "code",
      "source": [
        "#Check if Key Exists\n",
        "if 'Ray' in dict2:\n",
        " print(dict2.get('Ray'))    #pega o valor da chave se ela existe\n"
      ],
      "metadata": {
        "colab": {
          "base_uri": "https://localhost:8080/"
        },
        "id": "tvU6IOqHZu0O",
        "outputId": "6f7e8118-b2e2-4c89-e063-43fc1bb5c4b1"
      },
      "execution_count": null,
      "outputs": [
        {
          "output_type": "stream",
          "name": "stdout",
          "text": [
            "18/3\n"
          ]
        }
      ]
    },
    {
      "cell_type": "markdown",
      "source": [
        "**Change Items**"
      ],
      "metadata": {
        "id": "qaL36bMlakDX"
      }
    },
    {
      "cell_type": "code",
      "source": [
        "dict4 = {\n",
        "    'Sheldon': \"Flash\",\n",
        "    'Leonard': \"Bataman\",\n",
        "    'Raj': \"Aquaman\",\n",
        "    'Howard': \"Green Lantern\",\n",
        "\n",
        "}\n",
        "dict4['Leonard'] = 'Superman'     #the value of a specific item by referring to its key name\n",
        "print(dict4)\n",
        "\n",
        "dict4.update({'Sheldon':'Batman'})    #update()\n",
        "print(dict4)\n"
      ],
      "metadata": {
        "colab": {
          "base_uri": "https://localhost:8080/"
        },
        "id": "f2OeMaiDam0f",
        "outputId": "4dd71241-f30c-4379-c5cd-da03e175b0d6"
      },
      "execution_count": null,
      "outputs": [
        {
          "output_type": "stream",
          "name": "stdout",
          "text": [
            "{'Sheldon': 'Flash', 'Leonard': 'Superman', 'Raj': 'Aquaman', 'Howard': 'Green Lantern'}\n",
            "{'Sheldon': 'Batman', 'Leonard': 'Superman', 'Raj': 'Aquaman', 'Howard': 'Green Lantern'}\n"
          ]
        }
      ]
    },
    {
      "cell_type": "markdown",
      "source": [
        "**Remove Items**"
      ],
      "metadata": {
        "id": "H1elJgbzdBBe"
      }
    },
    {
      "cell_type": "code",
      "source": [
        "dict4.pop('Raj')               #pop() to remove item\n",
        "print(dict4)\n",
        "\n",
        "#First, add new item\n",
        "dict4['Penny'] = 'Wonder Woman'\n",
        "print(dict4)\n",
        "\n",
        "dict4.popitem() # remove the last inserted item\n",
        "print(dict4)\n",
        "\n",
        "del dict4['Sheldon']      #removes the item with the specified key name\n",
        "print(dict4)\n",
        "\n",
        "dict4.clear()     #empty dict\n",
        "print(dict4)"
      ],
      "metadata": {
        "colab": {
          "base_uri": "https://localhost:8080/"
        },
        "id": "jhUeAaXjc-p7",
        "outputId": "0f3a6031-cb3e-42a2-c97c-851bcf2beeba"
      },
      "execution_count": null,
      "outputs": [
        {
          "output_type": "stream",
          "name": "stdout",
          "text": [
            "{'Sheldon': 'Batman', 'Leonard': 'Superman', 'Howard': 'Green Lantern'}\n",
            "{'Sheldon': 'Batman', 'Leonard': 'Superman', 'Howard': 'Green Lantern', 'Penny': 'Wonder Woman'}\n",
            "{'Sheldon': 'Batman', 'Leonard': 'Superman', 'Howard': 'Green Lantern'}\n",
            "{'Leonard': 'Superman', 'Howard': 'Green Lantern'}\n",
            "{}\n"
          ]
        }
      ]
    },
    {
      "cell_type": "code",
      "source": [
        "thisdict = {\n",
        "  \"brand\": \"Ford\",\n",
        "  \"model\": \"Mustang\",\n",
        "  \"year\": 1964\n",
        "}\n",
        "del thisdict\n",
        "print(thisdict) #this will cause an error because \"thisdict\" no longer exists."
      ],
      "metadata": {
        "id": "hUAlheTieZfB"
      },
      "execution_count": null,
      "outputs": []
    },
    {
      "cell_type": "markdown",
      "source": [
        "**Loops**"
      ],
      "metadata": {
        "id": "immgJaxyenl9"
      }
    },
    {
      "cell_type": "code",
      "source": [
        "mydict = {\n",
        "    'Superman': 'Blue',\n",
        "    'Batman': 'Black',\n",
        "    'Wonder Woman': 'Red',\n",
        "    'Flash': 'Yellow'\n",
        "}\n",
        "\n",
        "for x in mydict:      #keys\n",
        "  print(x)\n",
        "\n",
        "#OU\n",
        "for x in mydict.keys():\n",
        "  print (\"\\n\", x)\n",
        "\n",
        "\n",
        "for x in mydict:      #values\n",
        "  print(mydict[x])\n",
        "\n",
        "#OU\n",
        "for x in mydict.values():\n",
        "  print (\"\\n\", x)\n",
        "\n",
        "#both, keys and values\n",
        "\n",
        "for x in mydict.items():\n",
        "  print(x)"
      ],
      "metadata": {
        "colab": {
          "base_uri": "https://localhost:8080/"
        },
        "id": "0JCx7EM9eqcy",
        "outputId": "08c75ff9-9305-457f-a4ac-a8591136b56d"
      },
      "execution_count": null,
      "outputs": [
        {
          "output_type": "stream",
          "name": "stdout",
          "text": [
            "Superman\n",
            "Batman\n",
            "Wonder Woman\n",
            "Flash\n",
            "\n",
            " Superman\n",
            "\n",
            " Batman\n",
            "\n",
            " Wonder Woman\n",
            "\n",
            " Flash\n",
            "Blue\n",
            "Black\n",
            "Red\n",
            "Yellow\n",
            "\n",
            " Blue\n",
            "\n",
            " Black\n",
            "\n",
            " Red\n",
            "\n",
            " Yellow\n",
            "('Superman', 'Blue')\n",
            "('Batman', 'Black')\n",
            "('Wonder Woman', 'Red')\n",
            "('Flash', 'Yellow')\n"
          ]
        }
      ]
    },
    {
      "cell_type": "markdown",
      "source": [
        "**Copy Dictos**"
      ],
      "metadata": {
        "id": "Kl5RaCXNgKs4"
      }
    },
    {
      "cell_type": "code",
      "source": [
        "mydict2 = mydict.copy()\n",
        "print(mydict2)\n",
        "\n",
        "#OU\n",
        "\n",
        "mydict3 = dict(mydict)\n",
        "print(mydict3)"
      ],
      "metadata": {
        "colab": {
          "base_uri": "https://localhost:8080/"
        },
        "id": "pjb7XmSSgPPA",
        "outputId": "922469dd-37d6-4d31-a139-31c94f64ec35"
      },
      "execution_count": null,
      "outputs": [
        {
          "output_type": "stream",
          "name": "stdout",
          "text": [
            "{'Superman': 'Blue', 'Batman': 'Black', 'Wonder Woman': 'Red', 'Flash': 'Yellow'}\n",
            "{'Superman': 'Blue', 'Batman': 'Black', 'Wonder Woman': 'Red', 'Flash': 'Yellow'}\n"
          ]
        }
      ]
    },
    {
      "cell_type": "code",
      "source": [
        "#nested dictos"
      ],
      "metadata": {
        "id": "wEYDbBtYHN5r"
      },
      "execution_count": null,
      "outputs": []
    },
    {
      "cell_type": "markdown",
      "source": [
        "#**Functions**\n",
        "\n"
      ],
      "metadata": {
        "id": "vhXmF3nw5ecK"
      }
    },
    {
      "cell_type": "code",
      "source": [
        "def my_function():                #criando uma função\n",
        "  print(\"Hello from a function\")\n",
        "\n",
        "my_function()                     #chamando uma função\n",
        "\n",
        "#Information can be passed into functions as arguments.\n",
        "#Arguments are specified after the function name, inside the parentheses. You can add as many arguments as you want, just separate them with a comma.\n",
        "#Arguments are often shortened to args in Python documentations.\n",
        "\n",
        "def my_family(fname):\n",
        "  print(fname + \" Andrade Soares\")\n",
        "\n",
        "my_family(\"\\n\\nIsaias\")\n",
        "my_family(\"Rosângela\")\n",
        "my_family(\"Vinicius\")\n",
        "my_family(\"Gabriella\")\n",
        "my_family(\"Thamyres\")"
      ],
      "metadata": {
        "colab": {
          "base_uri": "https://localhost:8080/"
        },
        "id": "psgcTiCf5uFH",
        "outputId": "be91cdcd-461f-409a-b604-721be83ed45b"
      },
      "execution_count": null,
      "outputs": [
        {
          "output_type": "stream",
          "name": "stdout",
          "text": [
            "Hello from a function\n",
            "\n",
            "\n",
            "Isaias Andrade Soares\n",
            "Rosângela Andrade Soares\n",
            "Vinicius Andrade Soares\n",
            "Gabriella Andrade Soares\n",
            "Thamyres Andrade Soares\n"
          ]
        }
      ]
    },
    {
      "cell_type": "code",
      "source": [
        "#From a function's perspective:\n",
        "\n",
        "#A parameter is the variable listed inside the parentheses in the function definition.\n",
        "#An argument is the value that is sent to the function when it is called"
      ],
      "metadata": {
        "id": "gI-l-7iOIdAq"
      },
      "execution_count": null,
      "outputs": []
    },
    {
      "cell_type": "markdown",
      "source": [
        "**Number of Arguments**"
      ],
      "metadata": {
        "id": "VSYS8fIqIlah"
      }
    },
    {
      "cell_type": "code",
      "source": [
        "def my_family(fname, lname):\n",
        "  print(fname + \" \" + lname)\n",
        "\n",
        "my_family(\"\\nIsaias\", \"Antônio Soares\")\n",
        "my_family(\"\\nRosângela\", \"de Fátima Andrade Soares\")\n",
        "my_family(\"\\nVinicius\", \"Andrade Soares\")\n",
        "my_family(\"\\nGabriella\", \"Andrade Soares\")\n",
        "my_family(\"\\nThamyres\", \"Christine de Andrade Soares\")"
      ],
      "metadata": {
        "colab": {
          "base_uri": "https://localhost:8080/"
        },
        "id": "f5X3GxIm7CM6",
        "outputId": "94d6f300-ce8e-469e-aa91-ee69808f6328"
      },
      "execution_count": null,
      "outputs": [
        {
          "output_type": "stream",
          "name": "stdout",
          "text": [
            "\n",
            "Isaias Antônio Soares\n",
            "\n",
            "Rosângela de Fátima Andrade Soares\n",
            "\n",
            "Vinicius Andrade Soares\n",
            "\n",
            "Gabriella Andrade Soares\n",
            "\n",
            "Thamyres Christine de Andrade Soares\n"
          ]
        }
      ]
    },
    {
      "cell_type": "markdown",
      "source": [
        "**Arbitrary Args**"
      ],
      "metadata": {
        "id": "YVaT2XTxIwH9"
      }
    },
    {
      "cell_type": "code",
      "source": [
        "#If you do not know how many arguments that will be passed into your function, add a * before the parameter name in the function definition.\n",
        "def my_function(*kids):\n",
        "  print(\"The youngest child is \" + kids[2])\n",
        "\n",
        "my_function(\"Emil\", \"Tobias\", \"Linus\")"
      ],
      "metadata": {
        "colab": {
          "base_uri": "https://localhost:8080/"
        },
        "id": "WLJUgDlp7qgK",
        "outputId": "d35d2643-70dc-4553-afd5-f1a5b3ab924f"
      },
      "execution_count": null,
      "outputs": [
        {
          "output_type": "stream",
          "name": "stdout",
          "text": [
            "The youngest child is Linus\n"
          ]
        }
      ]
    },
    {
      "cell_type": "code",
      "source": [
        "#If the number of keyword arguments is unknown, add a double ** before the parameter name:\n",
        "def my_function(**kid):\n",
        "  print(\"His last name is \" + kid[\"lname\"])\n",
        "\n",
        "my_function(fname = \"Tobias\", lname = \"Refsnes\")"
      ],
      "metadata": {
        "colab": {
          "base_uri": "https://localhost:8080/"
        },
        "id": "qUql6zNqMJ5Y",
        "outputId": "25cc59bb-f8e3-4bfb-87e4-9569c6a7ea14"
      },
      "execution_count": null,
      "outputs": [
        {
          "output_type": "stream",
          "name": "stdout",
          "text": [
            "His last name is Refsnes\n"
          ]
        }
      ]
    },
    {
      "cell_type": "code",
      "source": [
        "def my_function(child3, child2, child1):\n",
        "  print(\"The youngest child is \" + child3)\n",
        "\n",
        "my_function(child1 = \"Emil\", child2 = \"Tobias\", child3 = \"Linus\")"
      ],
      "metadata": {
        "colab": {
          "base_uri": "https://localhost:8080/"
        },
        "id": "HtXR5SmX700G",
        "outputId": "866d9c60-ec7d-49eb-c9dc-9e995072ef1c"
      },
      "execution_count": null,
      "outputs": [
        {
          "output_type": "stream",
          "name": "stdout",
          "text": [
            "The youngest child is Linus\n"
          ]
        }
      ]
    },
    {
      "cell_type": "code",
      "source": [
        "def my_function(country = \"Norway\"):\n",
        "  print(\"I am from \" + country)\n",
        "\n",
        "my_function(\"Sweden\")\n",
        "my_function(\"India\")\n",
        "my_function()\n",
        "my_function(\"Brazil\")"
      ],
      "metadata": {
        "colab": {
          "base_uri": "https://localhost:8080/"
        },
        "id": "-mO3St3d8ZzM",
        "outputId": "e596b161-8f59-4aa8-cf13-a1a85db01df3"
      },
      "execution_count": null,
      "outputs": [
        {
          "output_type": "stream",
          "name": "stdout",
          "text": [
            "I am from Sweden\n",
            "I am from India\n",
            "I am from Norway\n",
            "I am from Brazil\n"
          ]
        }
      ]
    },
    {
      "cell_type": "code",
      "source": [
        "def my_function(x):\n",
        "    y = ((5 * x) - (x / 2) + (x % 1))\n",
        "    return y\n",
        "\n",
        "print(my_function(4))\n",
        "print(my_function(5))\n",
        "print(my_function(22))"
      ],
      "metadata": {
        "colab": {
          "base_uri": "https://localhost:8080/"
        },
        "id": "lqS9Tlrq8lIj",
        "outputId": "3e0da2b9-c390-425f-d967-8adb03ced77f"
      },
      "execution_count": null,
      "outputs": [
        {
          "output_type": "stream",
          "name": "stdout",
          "text": [
            "18.0\n",
            "22.5\n",
            "99.0\n"
          ]
        }
      ]
    },
    {
      "cell_type": "code",
      "source": [
        "def odds(a):\n",
        "  if (a % 2 == 0):\n",
        "   print(b = True)\n",
        "  else:\n",
        "    print( b = False)\n",
        "  return b\n",
        "\n",
        "\n",
        "\n",
        "  print(odds(3))"
      ],
      "metadata": {
        "id": "vnM3cW7iRtzP"
      },
      "execution_count": null,
      "outputs": []
    },
    {
      "cell_type": "code",
      "source": [
        "def say(text=\"Default Text\"):\n",
        "  print(text)\n",
        "\n",
        "\n",
        "say(\"Hello\")"
      ],
      "metadata": {
        "colab": {
          "base_uri": "https://localhost:8080/"
        },
        "id": "JtohD24BSo9B",
        "outputId": "1572a07a-9e9e-47b1-fa99-dc4f422b0c23"
      },
      "execution_count": null,
      "outputs": [
        {
          "output_type": "stream",
          "name": "stdout",
          "text": [
            "Hello\n"
          ]
        }
      ]
    },
    {
      "cell_type": "code",
      "source": [
        "def print_sum(*numbers):\n",
        "  result = 0\n",
        "  for x in numbers:\n",
        "    result += x\n",
        "    print(result)\n",
        "\n",
        "\n",
        "  print_sum(10, 20, 30, 40)"
      ],
      "metadata": {
        "id": "JAuVuMQKS7e4"
      },
      "execution_count": null,
      "outputs": []
    },
    {
      "cell_type": "code",
      "source": [
        "def myfunction():\n",
        "  pass\n",
        "\n",
        "\n",
        "#function definitions cannot be empty, but if you for some reason have a function definition with no content,\n",
        "#put in the pass statement to avoid getting an error."
      ],
      "metadata": {
        "id": "AhJ0Aung81kr"
      },
      "execution_count": null,
      "outputs": []
    },
    {
      "cell_type": "code",
      "source": [
        "def my_function(food):    #lists as an Arg\n",
        "  for x in food:\n",
        "    print(x)\n",
        "\n",
        "fruits = [\"apple\", \"banana\", \"cherry\"]\n",
        "\n",
        "my_function(fruits)\n"
      ],
      "metadata": {
        "colab": {
          "base_uri": "https://localhost:8080/"
        },
        "id": "zNcJ3OKMJtTw",
        "outputId": "e8954697-6ec0-4887-ed50-3cf5bb753351"
      },
      "execution_count": null,
      "outputs": [
        {
          "output_type": "stream",
          "name": "stdout",
          "text": [
            "apple\n",
            "banana\n",
            "cherry\n"
          ]
        }
      ]
    },
    {
      "cell_type": "code",
      "source": [
        "#Recursion - function can call itself\n",
        "def myrecursion(k):\n",
        "  if(k>0):\n",
        "    result = k + myrecursion(k-1)\n",
        "    print(result)\n",
        "  else:\n",
        "    result = 0\n",
        "  return result\n",
        "\n",
        "myrecursion(5)"
      ],
      "metadata": {
        "colab": {
          "base_uri": "https://localhost:8080/"
        },
        "id": "u9AfBT8HKxOb",
        "outputId": "c1dfdbbb-5ed2-46a8-f964-608a1c1a58d9"
      },
      "execution_count": null,
      "outputs": [
        {
          "output_type": "stream",
          "name": "stdout",
          "text": [
            "1\n",
            "3\n",
            "6\n",
            "10\n",
            "15\n"
          ]
        },
        {
          "output_type": "execute_result",
          "data": {
            "text/plain": [
              "15"
            ]
          },
          "metadata": {},
          "execution_count": 3
        }
      ]
    },
    {
      "cell_type": "code",
      "source": [
        "def calculadora():\n",
        "  x = int(num1)\n",
        "  y = int(num2)\n",
        "  print(\"A soma destes números é: \",x + y)\n",
        "\n",
        "num1 = input(\"Digite um número e aperte Enter: \")\n",
        "\n",
        "num2 = input(\"Digite outro número  e aperte Enter novamente: \")\n",
        "\n",
        "calculadora()"
      ],
      "metadata": {
        "id": "R8kYuFM4TeTj"
      },
      "execution_count": null,
      "outputs": []
    },
    {
      "cell_type": "code",
      "source": [
        "def soma2(num1, num2):\n",
        "  x = int(num1)\n",
        "  y = int(num2)\n",
        "  return x + y\n",
        "\n",
        "resultado = soma2(10, 20)\n",
        "print(resultado)"
      ],
      "metadata": {
        "id": "enyK6ujBTgss"
      },
      "execution_count": null,
      "outputs": []
    },
    {
      "cell_type": "code",
      "source": [],
      "metadata": {
        "id": "B-HdHfvJTqc6"
      },
      "execution_count": null,
      "outputs": []
    },
    {
      "cell_type": "markdown",
      "source": [
        "#**Conditions (If-Else)**"
      ],
      "metadata": {
        "id": "6SImOP8cM4l-"
      }
    },
    {
      "cell_type": "markdown",
      "source": [
        "**If-Else**"
      ],
      "metadata": {
        "id": "1eLYjdyiO0Q7"
      }
    },
    {
      "cell_type": "code",
      "execution_count": null,
      "metadata": {
        "colab": {
          "base_uri": "https://localhost:8080/"
        },
        "id": "7Y2QYFGiLp1G",
        "outputId": "46ea081b-9b81-4502-b8ed-a9c0a35478fd"
      },
      "outputs": [
        {
          "output_type": "stream",
          "name": "stdout",
          "text": [
            "No, b is greater than b\n",
            "No, b and c are not equal\n",
            "Yes, b and c are equal\n",
            "Yes, b is less than c\n",
            "Yes, b and c are equal or b and c are not equal, but b is greater than e\n",
            "Yes, c and d are not equal\n"
          ]
        }
      ],
      "source": [
        "a = 5\n",
        "b = 10\n",
        "c = 12\n",
        "d = 6\n",
        "e = 10\n",
        "\n",
        "if a > b:\n",
        "  print ('Yes, a is greater than b')\n",
        "else:\n",
        "  print ('No, b is greater than b')\n",
        "\n",
        "if b == c:\n",
        "  print ('Yes, b and c are equal')\n",
        "else:\n",
        "  print('No, b and c are not equal')\n",
        "\n",
        "if b == e:\n",
        "  print ('Yes, b and c are equal')\n",
        "else:\n",
        "  print('No, b and c are not equal')\n",
        "\n",
        "if b < c:\n",
        "  print ('Yes, b is less than c')\n",
        "else:\n",
        "  print ('No, b is less than c')\n",
        "\n",
        "if b >= e:\n",
        "  print ('Yes, b and c are equal or b and c are not equal, but b is greater than e')\n",
        "\n",
        "if c != d:\n",
        "  print ('Yes, c and d are not equal')"
      ]
    },
    {
      "cell_type": "markdown",
      "source": [
        "**Elif Statement**"
      ],
      "metadata": {
        "id": "nKWSG8aAO4NC"
      }
    },
    {
      "cell_type": "code",
      "source": [
        "if b > e:\n",
        "  print ('Yes, b is greater than e')\n",
        "elif b == e:\n",
        "  print('Yes, b and e are equal')"
      ],
      "metadata": {
        "colab": {
          "base_uri": "https://localhost:8080/"
        },
        "id": "GFglxbjAO9c5",
        "outputId": "60363391-c146-4c76-a1f6-be1ab035309e"
      },
      "execution_count": null,
      "outputs": [
        {
          "output_type": "stream",
          "name": "stdout",
          "text": [
            "Yes, b and e are equal\n"
          ]
        }
      ]
    },
    {
      "cell_type": "markdown",
      "source": [
        "**Short Hand If Statement**"
      ],
      "metadata": {
        "id": "FUJXSjPvO-J0"
      }
    },
    {
      "cell_type": "code",
      "source": [
        "if e < c: print('Yo, e is less than c')"
      ],
      "metadata": {
        "colab": {
          "base_uri": "https://localhost:8080/"
        },
        "id": "bpRco64yPFFi",
        "outputId": "e16c2a8d-31ce-468d-e959-bfce9c401365"
      },
      "execution_count": null,
      "outputs": [
        {
          "output_type": "stream",
          "name": "stdout",
          "text": [
            "Yo, e is less than c\n"
          ]
        }
      ]
    },
    {
      "cell_type": "markdown",
      "source": [
        "**Short Hand If-Else Statement**"
      ],
      "metadata": {
        "id": "ldUUMF0ePEHl"
      }
    },
    {
      "cell_type": "code",
      "source": [
        "print('Visca Barça') if 3 > 1 else print('Hala Madrid')"
      ],
      "metadata": {
        "colab": {
          "base_uri": "https://localhost:8080/"
        },
        "id": "k0Gpo6cpRVpd",
        "outputId": "01999144-db8e-4f8c-f0d1-fde99147ab8c"
      },
      "execution_count": null,
      "outputs": [
        {
          "output_type": "stream",
          "name": "stdout",
          "text": [
            "Visca Barça\n"
          ]
        }
      ]
    },
    {
      "cell_type": "code",
      "source": [
        "print('Visca Barçaaaaaaa') if 3 > 1 else print('Hala Madrid') if 10 > 12 else print('Visca Barça') #three conditions"
      ],
      "metadata": {
        "colab": {
          "base_uri": "https://localhost:8080/"
        },
        "id": "PImgYKxXRzd8",
        "outputId": "30fd62c4-f024-4fda-c8fe-09a4c984c914"
      },
      "execution_count": null,
      "outputs": [
        {
          "output_type": "stream",
          "name": "stdout",
          "text": [
            "Visca Barçaaaaaaa\n"
          ]
        }
      ]
    },
    {
      "cell_type": "markdown",
      "source": [
        "**And & Or Statements**"
      ],
      "metadata": {
        "id": "7h-Q417APLfi"
      }
    },
    {
      "cell_type": "code",
      "source": [
        "a = 5\n",
        "b = 10\n",
        "c = 12\n",
        "d = 6\n",
        "e = 10\n",
        "\n",
        "if c > a and c < b:\n",
        "  print ('both conditions are True')\n",
        "else:\n",
        "  print ('both conditions are False or at least one of the conditions is False')\n",
        "\n",
        "if c > a and c > b:\n",
        "  print ('both conditions are True')\n",
        "else:\n",
        "  print ('both conditions are False or one at least one of the conditions False')\n",
        "\n",
        "if c > a or c < b:\n",
        "  print ('at least one of the conditions is False')\n",
        "else:\n",
        "  print ('at least one of the conditions is True')\n",
        "\n",
        "if c > a or c > b:\n",
        "  print ('at least one of the conditions is True')\n",
        "else:\n",
        "  print ('at least one of the conditions is False')"
      ],
      "metadata": {
        "colab": {
          "base_uri": "https://localhost:8080/"
        },
        "id": "22nQVmXYPQ9q",
        "outputId": "ffd230c3-1bac-43da-e0a1-088fde3fd3cf"
      },
      "execution_count": null,
      "outputs": [
        {
          "output_type": "stream",
          "name": "stdout",
          "text": [
            "both conditions are False or at least one of the conditions is False\n",
            "both conditions are True\n",
            "at least one of the conditions is False\n",
            "at least one of the conditions is True\n"
          ]
        }
      ]
    },
    {
      "cell_type": "markdown",
      "source": [
        "**Nested If's**"
      ],
      "metadata": {
        "id": "Brt7W3gHPRXR"
      }
    },
    {
      "cell_type": "code",
      "source": [
        "#if inside if statements\n",
        "x = 45\n",
        "\n",
        "if x > 15:\n",
        "  print('up')\n",
        "  if x == 9*5:\n",
        "    print('That is right')\n",
        "  else:\n",
        "    print('try again')"
      ],
      "metadata": {
        "colab": {
          "base_uri": "https://localhost:8080/"
        },
        "id": "XqbNS6wvPUF5",
        "outputId": "f1730e4f-a2b0-4f1b-8396-554c71d60ef6"
      },
      "execution_count": null,
      "outputs": [
        {
          "output_type": "stream",
          "name": "stdout",
          "text": [
            "up\n",
            "That is right\n"
          ]
        }
      ]
    },
    {
      "cell_type": "markdown",
      "source": [
        "**Pass Statement**"
      ],
      "metadata": {
        "id": "VhS5U4siPV_8"
      }
    },
    {
      "cell_type": "code",
      "source": [
        " if b > a:\n",
        "   pass"
      ],
      "metadata": {
        "id": "oa5VEdIlPZAY"
      },
      "execution_count": null,
      "outputs": []
    },
    {
      "cell_type": "markdown",
      "source": [
        "#**While Lopps**"
      ],
      "metadata": {
        "id": "d-kd0VPFVqPZ"
      }
    },
    {
      "cell_type": "code",
      "source": [
        "i = 0\n",
        "while i < 5:\n",
        "  print(i)\n",
        "  i += 1              #i = i + 1"
      ],
      "metadata": {
        "colab": {
          "base_uri": "https://localhost:8080/"
        },
        "id": "ZnHJJSWvVx0S",
        "outputId": "f49e2d40-3786-4414-df0d-9d514555f68f"
      },
      "execution_count": null,
      "outputs": [
        {
          "output_type": "stream",
          "name": "stdout",
          "text": [
            "0\n",
            "1\n",
            "2\n",
            "3\n",
            "4\n"
          ]
        }
      ]
    },
    {
      "cell_type": "markdown",
      "source": [
        "**Break Statement**"
      ],
      "metadata": {
        "id": "M18ViIsTVzUj"
      }
    },
    {
      "cell_type": "code",
      "source": [
        "i = 0\n",
        "while i < 8:\n",
        "  print(i)\n",
        "  if i == 5:\n",
        "    break\n",
        "  i += 1\n"
      ],
      "metadata": {
        "colab": {
          "base_uri": "https://localhost:8080/"
        },
        "id": "S3hdkCK-V3sJ",
        "outputId": "cae87aed-ecb8-4101-f574-c0acabd38690"
      },
      "execution_count": null,
      "outputs": [
        {
          "output_type": "stream",
          "name": "stdout",
          "text": [
            "0\n",
            "1\n",
            "2\n",
            "3\n",
            "4\n",
            "5\n"
          ]
        }
      ]
    },
    {
      "cell_type": "markdown",
      "source": [
        "**Continue Statement**"
      ],
      "metadata": {
        "id": "_sHTz_agV5aL"
      }
    },
    {
      "cell_type": "code",
      "source": [
        "i = 0\n",
        "while i < 8:\n",
        "  i += 1\n",
        "  if i == 5:\n",
        "    continue\n",
        "  print(i)"
      ],
      "metadata": {
        "colab": {
          "base_uri": "https://localhost:8080/"
        },
        "id": "4g-xKlo7V8zJ",
        "outputId": "728e1818-3897-4444-d735-284b4f5b4093"
      },
      "execution_count": null,
      "outputs": [
        {
          "output_type": "stream",
          "name": "stdout",
          "text": [
            "1\n",
            "2\n",
            "3\n",
            "4\n",
            "6\n",
            "7\n",
            "8\n"
          ]
        }
      ]
    },
    {
      "cell_type": "markdown",
      "source": [
        "**Else Statement**"
      ],
      "metadata": {
        "id": "Ir5PaWyWV-ro"
      }
    },
    {
      "cell_type": "code",
      "source": [
        "i = 0\n",
        "while i < 5:\n",
        "  print(i)\n",
        "  i += 1\n",
        "else:\n",
        "  print('That is over')"
      ],
      "metadata": {
        "colab": {
          "base_uri": "https://localhost:8080/"
        },
        "id": "mfNLKChSWA3F",
        "outputId": "3c40dd1f-4a81-4d1f-b0a0-7fa9987b3e36"
      },
      "execution_count": null,
      "outputs": [
        {
          "output_type": "stream",
          "name": "stdout",
          "text": [
            "0\n",
            "1\n",
            "2\n",
            "3\n",
            "4\n",
            "That is over\n"
          ]
        }
      ]
    },
    {
      "cell_type": "markdown",
      "source": [
        "#**For loops**"
      ],
      "metadata": {
        "id": "EF67DdNTZJd2"
      }
    },
    {
      "cell_type": "code",
      "source": [
        "Barcelona = ['Gavi', 'Pedri', 'Ter Stegen', 'Lewandowski', 'Busquets', 'Araújo', 'Frenkie DeJong', 'Alba', 'Ansu Fati', 'Balde', 'Koundé', 'Christensen', 'Dembélé']\n",
        "for x in Barcelona:\n",
        "  print(x)\n",
        "\n",
        "print(len(Barcelona))"
      ],
      "metadata": {
        "colab": {
          "base_uri": "https://localhost:8080/"
        },
        "id": "-__i-rbgZJ40",
        "outputId": "1eb5ddfd-4f3a-4d77-f797-5f0f4f9c1734"
      },
      "execution_count": null,
      "outputs": [
        {
          "output_type": "stream",
          "name": "stdout",
          "text": [
            "Gavi\n",
            "Pedri\n",
            "Ter Stegen\n",
            "Lewandowski\n",
            "Busquets\n",
            "Araújo\n",
            "Frenkie DeJong\n",
            "Alba\n",
            "Ansu Fati\n",
            "Balde\n",
            "Koundé\n",
            "Christensen\n",
            "Dembélé\n",
            "13\n"
          ]
        }
      ]
    },
    {
      "cell_type": "markdown",
      "source": [
        "**Looping Through a String**"
      ],
      "metadata": {
        "id": "fbhNgfRbZVMn"
      }
    },
    {
      "cell_type": "code",
      "source": [
        "for x in 'Lewandowski':\n",
        "  print(x)"
      ],
      "metadata": {
        "colab": {
          "base_uri": "https://localhost:8080/"
        },
        "id": "1Zl-iJBUZViv",
        "outputId": "857d6109-adcc-40b7-f719-33ceb37a8007"
      },
      "execution_count": null,
      "outputs": [
        {
          "output_type": "stream",
          "name": "stdout",
          "text": [
            "L\n",
            "e\n",
            "w\n",
            "a\n",
            "n\n",
            "d\n",
            "o\n",
            "w\n",
            "s\n",
            "k\n",
            "i\n"
          ]
        }
      ]
    },
    {
      "cell_type": "markdown",
      "source": [
        "**Break Statement**"
      ],
      "metadata": {
        "id": "9-RSR7wVZW35"
      }
    },
    {
      "cell_type": "code",
      "source": [
        "Barcelona = ['Gavi', 'Pedri', 'Ter Stegen', 'Lewandowski', 'Busquets', 'Araújo', 'Frenkie DeJong', 'Alba', 'Ansu Fati', 'Balde', 'Koundé', 'Christensen', 'Dembélé']\n",
        "for x in Barcelona:\n",
        "  print(x)\n",
        "  if x == 'Busquets':\n",
        "    break\n",
        "\n",
        "print('Busquets - Ele é o capitão')"
      ],
      "metadata": {
        "colab": {
          "base_uri": "https://localhost:8080/"
        },
        "id": "YGw0spsUZXMH",
        "outputId": "ba6deaa4-3afa-43f2-ab69-00e438e71d65"
      },
      "execution_count": null,
      "outputs": [
        {
          "output_type": "stream",
          "name": "stdout",
          "text": [
            "Gavi\n",
            "Pedri\n",
            "Ter Stegen\n",
            "Lewandowski\n",
            "Busquets\n",
            "Busquets - Ele é o capitão\n"
          ]
        }
      ]
    },
    {
      "cell_type": "markdown",
      "source": [
        "**Continue Statement**"
      ],
      "metadata": {
        "id": "X5ExVLRyZYLM"
      }
    },
    {
      "cell_type": "code",
      "source": [
        "Barcelona = ['Gavi', 'Pedri', 'Ter Stegen', 'Lewandowski', 'Busquets', 'Araújo', 'Frenkie DeJong', 'Alba', 'Ansu Fati', 'Balde', 'Koundé', 'Christensen', 'Dembélé']\n",
        "for x in Barcelona:\n",
        "  if x == 'Busquets': #remove o Busquets\n",
        "    continue\n",
        "  print(x)"
      ],
      "metadata": {
        "colab": {
          "base_uri": "https://localhost:8080/"
        },
        "id": "jSY1kOkMZYjG",
        "outputId": "e30aa8d8-c630-4c5e-deaf-b26b9aeb88aa"
      },
      "execution_count": null,
      "outputs": [
        {
          "output_type": "stream",
          "name": "stdout",
          "text": [
            "Gavi\n",
            "Pedri\n",
            "Ter Stegen\n",
            "Lewandowski\n",
            "Araújo\n",
            "Frenkie DeJong\n",
            "Alba\n",
            "Ansu Fati\n",
            "Balde\n",
            "Koundé\n",
            "Christensen\n",
            "Dembélé\n"
          ]
        }
      ]
    },
    {
      "cell_type": "markdown",
      "source": [
        "**Range() Function**"
      ],
      "metadata": {
        "id": "BYToUe5sZYI8"
      }
    },
    {
      "cell_type": "code",
      "source": [
        "for x in range(5): #returns a sequence of numbers\n",
        "  print(x)\n",
        "\n",
        "for x in range(10, 15):\n",
        "  print(x)\n",
        "\n",
        "for x in range (10, 30, 3): #aumenta de três em três\n",
        "  print(x)"
      ],
      "metadata": {
        "colab": {
          "base_uri": "https://localhost:8080/"
        },
        "id": "AWaE6kcbZaYt",
        "outputId": "ab9fa374-e5f8-4c01-8795-2523319b3823"
      },
      "execution_count": null,
      "outputs": [
        {
          "output_type": "stream",
          "name": "stdout",
          "text": [
            "0\n",
            "1\n",
            "2\n",
            "3\n",
            "4\n",
            "10\n",
            "11\n",
            "12\n",
            "13\n",
            "14\n",
            "10\n",
            "13\n",
            "16\n",
            "19\n",
            "22\n",
            "25\n",
            "28\n"
          ]
        }
      ]
    },
    {
      "cell_type": "markdown",
      "source": [
        "**Else in For Loop**"
      ],
      "metadata": {
        "id": "5huWG8WDq9WH"
      }
    },
    {
      "cell_type": "code",
      "source": [
        "for x in Barcelona:\n",
        "  print(x)\n",
        "else:\n",
        "  print('Visca Barça')"
      ],
      "metadata": {
        "colab": {
          "base_uri": "https://localhost:8080/"
        },
        "id": "fawrOPJvrAsl",
        "outputId": "2d690717-8e00-4689-9cb3-a1e5f7cf6e72"
      },
      "execution_count": null,
      "outputs": [
        {
          "output_type": "stream",
          "name": "stdout",
          "text": [
            "Gavi\n",
            "Pedri\n",
            "Ter Stegen\n",
            "Lewandowski\n",
            "Busquets\n",
            "Araújo\n",
            "Frenkie DeJong\n",
            "Alba\n",
            "Ansu Fati\n",
            "Balde\n",
            "Koundé\n",
            "Christensen\n",
            "Dembélé\n",
            "Visca Barça\n"
          ]
        }
      ]
    },
    {
      "cell_type": "markdown",
      "source": [
        "**Nested Loops**"
      ],
      "metadata": {
        "id": "szMXZt_frPe0"
      }
    },
    {
      "cell_type": "code",
      "source": [
        "adj = ['tasty', 'big']\n",
        "fruits = ['apple', 'banana', 'watermelon', 'orange', 'grape']\n",
        "\n",
        "for x in adj:\n",
        "  for y in fruits:\n",
        "    print(x,y)"
      ],
      "metadata": {
        "colab": {
          "base_uri": "https://localhost:8080/"
        },
        "id": "K7gSqCtVsqir",
        "outputId": "ae908a13-74e8-41f8-90ec-55d8f1956a84"
      },
      "execution_count": null,
      "outputs": [
        {
          "output_type": "stream",
          "name": "stdout",
          "text": [
            "tasty apple\n",
            "tasty banana\n",
            "tasty watermelon\n",
            "tasty orange\n",
            "tasty grape\n",
            "big apple\n",
            "big banana\n",
            "big watermelon\n",
            "big orange\n",
            "big grape\n"
          ]
        }
      ]
    },
    {
      "cell_type": "markdown",
      "source": [
        "**Pass Statement**"
      ],
      "metadata": {
        "id": "83tJpLvttsD-"
      }
    },
    {
      "cell_type": "code",
      "source": [
        "for x in Barcelona:\n",
        "  pass"
      ],
      "metadata": {
        "id": "cz7URDqQtvV3"
      },
      "execution_count": null,
      "outputs": []
    }
  ]
}